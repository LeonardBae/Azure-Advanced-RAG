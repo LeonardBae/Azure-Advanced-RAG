{
 "cells": [
  {
   "cell_type": "markdown",
   "metadata": {},
   "source": [
    "# 1단계: 환경 설정"
   ]
  },
  {
   "cell_type": "code",
   "execution_count": null,
   "metadata": {},
   "outputs": [],
   "source": [
    "# Azure CLI 설치 (이미 설치되어 있다면 생략)\n",
    "curl -sL https://aka.ms/InstallAzureCLIDeb | sudo bash\n",
    "# Azure에 로그인\n",
    "az login\n",
    "# 리소스 그룹 생성\n",
    "az group create --name myRAGResourceGroup --location eastus"
   ]
  },
  {
   "cell_type": "markdown",
   "metadata": {},
   "source": [
    "# 2단계: Azure OpenAI Service 설정"
   ]
  },
  {
   "cell_type": "code",
   "execution_count": null,
   "metadata": {},
   "outputs": [],
   "source": [
    "# Azure OpenAI 리소스 생성\n",
    "az cognitiveservices account create --name myOpenAI --resource-group myRAGResourceGroup --kind OpenAI --sku S0 --location eastus\n",
    "# GPT-3.5 모델 배포\n",
    "az cognitiveservices account deployment create --name myOpenAI --resource-group myRAGResourceGroup --deployment-name gpt35turbo --model-name gpt-35-turbo --model-version \"0301\" --model-format OpenAI"
   ]
  },
  {
   "cell_type": "markdown",
   "metadata": {},
   "source": [
    "# 3단계: Azure AI Search 설정"
   ]
  },
  {
   "cell_type": "code",
   "execution_count": null,
   "metadata": {},
   "outputs": [],
   "source": [
    "# Azure AI Search 서비스 생성\n",
    "az search service create --name mySearchService --resource-group myRAGResourceGroup --sku Basic\n",
    "# 인덱스 생성 (JSON 파일을 사용하여 인덱스 스키마 정의)\n",
    "az search index create --name myIndex --service-name mySearchService --resource-group myRAGResourceGroup --definition index-schema.json"
   ]
  },
  {
   "cell_type": "markdown",
   "metadata": {},
   "source": [
    "# 4단계: 데이터 처리 및 인덱싱\n",
    "Python 스크립트를 사용하여 데이터를 처리하고 Azure AI Search에 인덱싱합니다."
   ]
  },
  {
   "cell_type": "code",
   "execution_count": 3,
   "metadata": {},
   "outputs": [],
   "source": [
    "from azure.core.credentials import AzureKeyCredential\n",
    "from azure.search.documents import SearchClient\n",
    "from azure.search.documents.indexes import SearchIndexClient\n",
    "from azure.search.documents.indexes.models import SearchIndex, SimpleField, SearchFieldDataType, SearchableField\n",
    "from azure.ai.textanalytics import TextAnalyticsClient\n",
    "from openai import AzureOpenAI\n",
    "import json\n",
    "import nest_asyncio\n",
    "import asyncio\n",
    "from dotenv import load_dotenv\n",
    "\n",
    "# .env 파일에서 환경 변수를 로드합니다.\n",
    "load_dotenv()\n",
    "\n",
    "# 환경 변수에서 필요한 값을 가져옵니다.\n",
    "TEXT_ANALYTICS_ENDPOINT = os.getenv(\"TEXT_ANALYTICS_ENDPOINT\")\n",
    "TEXT_ANALYTICS_KEY = os.getenv(\"TEXT_ANALYTICS_KEY\")\n",
    "OPENAI_ENDPOINT = os.getenv(\"OPENAI_ENDPOINT\")\n",
    "OPENAI_KEY = os.getenv(\"OPENAI_KEY\")\n",
    "SEARCH_ENDPOINT = os.getenv(\"SEARCH_ENDPOINT\")\n",
    "SEARCH_KEY = os.getenv(\"SEARCH_KEY\")\n",
    "INDEX_NAME = os.getenv(\"INDEX_NAME\")\n",
    "\n",
    "# Azure 클라이언트를 초기화합니다.\n",
    "text_analytics_client = TextAnalyticsClient(endpoint=TEXT_ANALYTICS_ENDPOINT, credential=AzureKeyCredential(TEXT_ANALYTICS_KEY))\n",
    "openai_client = AzureOpenAI(api_key=OPENAI_KEY, api_version=\"2023-05-15\", azure_endpoint=OPENAI_ENDPOINT)\n",
    "index_client = SearchIndexClient(endpoint=SEARCH_ENDPOINT, credential=AzureKeyCredential(SEARCH_KEY))\n",
    "search_client = SearchClient(endpoint=SEARCH_ENDPOINT, index_name=INDEX_NAME, credential=AzureKeyCredential(SEARCH_KEY))\n",
    "\n",
    "def create_search_index():\n",
    "    fields = [\n",
    "        SimpleField(name=\"id\", type=SearchFieldDataType.String, key=True),\n",
    "        SearchableField(name=\"content\", type=SearchFieldDataType.String),\n",
    "        SearchableField(name=\"keywords\", type=SearchFieldDataType.Collection(SearchFieldDataType.String)),\n",
    "        SearchableField(name=\"metadata\", type=SearchFieldDataType.String)\n",
    "    ]\n",
    "    index = SearchIndex(name=INDEX_NAME, fields=fields)\n",
    "    try:\n",
    "        index_client.create_index(index)\n",
    "    except Exception as e:\n",
    "        print(f\"Index creation failed: {e}\")\n",
    "\n",
    "def chunk_document(content, max_chunk_size=500):\n",
    "    words = content.split()\n",
    "    chunks = []\n",
    "    chunk = []\n",
    "    chunk_size = 0\n",
    "    for word in words:\n",
    "        if chunk_size + len(word) + 1 > max_chunk_size:\n",
    "            chunks.append(\" \".join(chunk))\n",
    "            chunk = []\n",
    "            chunk_size = 0\n",
    "        chunk.append(word)\n",
    "        chunk_size += len(word) + 1\n",
    "    if chunk:\n",
    "        chunks.append(\" \".join(chunk))\n",
    "    return chunks\n",
    "\n",
    "def process_and_index_document(document):\n",
    "    key_phrase_result = text_analytics_client.extract_key_phrases([document[\"content\"]])\n",
    "    keywords = key_phrase_result[0].key_phrases if key_phrase_result else []\n",
    "    keywords_str = json.dumps(keywords)\n",
    "    chunks = chunk_document(document[\"content\"])\n",
    "    for i, chunk in enumerate(chunks):\n",
    "        search_client.upload_documents([{\n",
    "            \"id\": f\"{document['id']}-{i}\",\n",
    "            \"content\": chunk,\n",
    "            \"keywords\": keywords_str,\n",
    "            \"metadata\": json.dumps(document[\"metadata\"])\n",
    "        }])"
   ]
  },
  {
   "cell_type": "markdown",
   "metadata": {},
   "source": [
    "# 5단계: Advanced RAG 파이프라인 구현"
   ]
  },
  {
   "cell_type": "code",
   "execution_count": 4,
   "metadata": {},
   "outputs": [
    {
     "name": "stdout",
     "output_type": "stream",
     "text": [
      "Index creation failed: (ResourceNameAlreadyInUse) Cannot create index 'advancedrag' because it already exists.\n",
      "Code: ResourceNameAlreadyInUse\n",
      "Message: Cannot create index 'advancedrag' because it already exists.\n",
      "Exception Details:\t(CannotCreateExistingIndex) Cannot create index 'advancedrag' because it already exists.\n",
      "\tCode: CannotCreateExistingIndex\n",
      "\tMessage: Cannot create index 'advancedrag' because it already exists.\n",
      "User Query: Advanced RAG의 장점은 무엇인가요?\n",
      "Response: Advanced RAG의 가장 큰 장점은 문서 검색과 생성형 AI를 결합하여 보다 정확하고 맥락적으로 관련성 있는 응답을 제공한다는 것입니다. 이를 통해 사용자들은 더욱 빠르게 필요한 정보를 얻을 수 있으며, 더욱 효율적인 결정을 내릴 수 있습니다. 또한, Advanced RAG는 기존의 검색 엔진과 비교하여 보다 정확하고 포괄적인 검색 결과를 제공하여 사용자들의 만족도를 높일 수 있습니다.\n"
     ]
    }
   ],
   "source": [
    "# 비동기 쿼리 실행 함수 정의\n",
    "async def run_query(query):\n",
    "    results = search_client.search(search_text=query, top=2)\n",
    "    return list(results)\n",
    "\n",
    "# 여러 쿼리를 병렬로 실행하는 함수 정의\n",
    "async def run_parallel_queries(queries):\n",
    "    tasks = [run_query(query) for query in queries]\n",
    "    return await asyncio.gather(*tasks)\n",
    "\n",
    "# BM25 점수를 계산하는 함수 정의\n",
    "def bm25_score(result, query):\n",
    "    content = result.get(\"content\", \"\")\n",
    "    return sum(content.lower().count(term.lower()) for term in query.split())\n",
    "\n",
    "# 결과를 재정렬하는 함수 정의\n",
    "def rerank_results(results, query):\n",
    "    return sorted(results, key=lambda result: bm25_score(result, query), reverse=True)\n",
    "\n",
    "# 컨텍스트를 생성하는 함수 정의\n",
    "def generate_context(results):\n",
    "    return \"\\n\".join([result[\"content\"] for result in results[:3]])\n",
    "\n",
    "# 응답을 생성하는 함수 정의\n",
    "def generate_response(query, context):\n",
    "    prompt = f\"Context: {context}\\n\\nQuestion: {query}\\n\\nAnswer:\"\n",
    "    response = openai_client.chat.completions.create(\n",
    "        model=\"gpt-35-turbo\",\n",
    "        messages=[{\"role\": \"user\", \"content\": prompt}]\n",
    "    )\n",
    "    return response.choices[0].message.content\n",
    "\n",
    "# 메인 함수 정의\n",
    "def main():\n",
    "    create_search_index()\n",
    "    \n",
    "    # 인덱싱할 문서 목록을 정의합니다.\n",
    "    documents = [\n",
    "        {\"id\": \"1\", \"content\": \"Azure Cognitive Services는 자연어 처리, 컴퓨터 비전, 음성 인식과 같은 강력한 AI 기능을 제공합니다.\", \"metadata\": {\"category\": \"AI\", \"topic\": \"Cognitive Services\"}},\n",
    "        {\"id\": \"2\", \"content\": \"Azure Search는 애플리케이션에 풍부한 검색 환경을 구축할 수 있도록 지원하는 완전 관리형 검색 서비스입니다.\", \"metadata\": {\"category\": \"Search\", \"topic\": \"Azure Search\"}},\n",
    "        {\"id\": \"3\", \"content\": \"Azure OpenAI Service는 비즈니스 워크플로우에 GPT-3와 같은 대형 언어 모델을 통합하여 요약 및 감정 분석과 같은 작업을 수행할 수 있게 합니다.\", \"metadata\": {\"category\": \"AI\", \"topic\": \"OpenAI Service\"}},\n",
    "        {\"id\": \"4\", \"content\": \"Advanced RAG(Retrieval-Augmented Generation)는 문서 검색과 생성형 AI를 결합하여 보다 정확하고 맥락적으로 관련성 있는 응답을 제공합니다.\", \"metadata\": {\"category\": \"AI\", \"topic\": \"Advanced RAG\"}},\n",
    "        {\"id\": \"5\", \"content\": \"Azure Blob Storage는 이미지, 비디오 및 문서를 포함한 비정형 데이터를 위한 확장 가능하고 비용 효율적인 스토리지 솔루션을 제공합니다.\", \"metadata\": {\"category\": \"Storage\", \"topic\": \"Blob Storage\"}},\n",
    "        {\"id\": \"6\", \"content\": \"Azure Kubernetes Service(AKS)는 클라우드에서 Kubernetes를 사용하여 컨테이너화된 애플리케이션을 배포 및 관리하는 작업을 간소화합니다.\", \"metadata\": {\"category\": \"DevOps\", \"topic\": \"Kubernetes\"}},\n",
    "        {\"id\": \"7\", \"content\": \"Azure Functions는 이벤트 중심 애플리케이션을 인프라 관리 없이 구축할 수 있는 서버리스 컴퓨팅 플랫폼을 제공합니다.\", \"metadata\": {\"category\": \"Serverless\", \"topic\": \"Azure Functions\"}},\n",
    "        {\"id\": \"8\", \"content\": \"Azure Synapse Analytics는 조직이 대규모 데이터 통합 및 빅데이터 분석을 수행할 수 있도록 지원합니다.\", \"metadata\": {\"category\": \"Analytics\", \"topic\": \"Synapse\"}},\n",
    "        {\"id\": \"9\", \"content\": \"Microsoft Power BI는 데이터를 시각화하고 대화형 대시보드를 생성하여 인사이트를 도출할 수 있도록 합니다.\", \"metadata\": {\"category\": \"Analytics\", \"topic\": \"Power BI\"}},\n",
    "        {\"id\": \"10\", \"content\": \"Azure DevOps는 개발팀에 버전 관리, CI/CD 및 프로젝트 관리 도구를 제공합니다.\", \"metadata\": {\"category\": \"DevOps\", \"topic\": \"DevOps Tools\"}},\n",
    "        {\"id\": \"11\", \"content\": \"Azure Security Center는 하이브리드 클라우드 워크로드 전반에 걸쳐 통합된 보안 관리와 고급 위협 방지 기능을 제공합니다.\", \"metadata\": {\"category\": \"Security\", \"topic\": \"Security Center\"}},\n",
    "        {\"id\": \"12\", \"content\": \"Azure Monitor는 애플리케이션과 인프라에 대한 완전한 관측성을 제공하며 사전적인 문제 해결을 가능하게 합니다.\", \"metadata\": {\"category\": \"Monitoring\", \"topic\": \"Azure Monitor\"}},\n",
    "        {\"id\": \"13\", \"content\": \"Azure Logic Apps는 워크플로우를 자동화하고 애플리케이션 및 서비스를 원활하게 통합할 수 있도록 합니다.\", \"metadata\": {\"category\": \"Automation\", \"topic\": \"Logic Apps\"}},\n",
    "        {\"id\": \"14\", \"content\": \"Azure Machine Learning은 데이터 과학자가 기계 학습 모델을 대규모로 구축, 학습, 배포할 수 있도록 합니다.\", \"metadata\": {\"category\": \"AI\", \"topic\": \"Machine Learning\"}},\n",
    "        {\"id\": \"15\", \"content\": \"Azure Virtual Machines는 Linux와 Windows를 지원하며 주문형 확장 가능한 컴퓨팅 자원을 제공합니다.\", \"metadata\": {\"category\": \"Compute\", \"topic\": \"Virtual Machines\"}},\n",
    "        {\"id\": \"16\", \"content\": \"Azure Networking 솔루션에는 애플리케이션 연결성과 보안을 향상시키는 Virtual Network, Load Balancer 및 Application Gateway가 포함됩니다.\", \"metadata\": {\"category\": \"Networking\", \"topic\": \"Networking Solutions\"}},\n",
    "        {\"id\": \"17\", \"content\": \"Microsoft Teams는 Azure Communication Services와 통합되어 원활한 커뮤니케이션 및 협업 기능을 제공합니다.\", \"metadata\": {\"category\": \"Collaboration\", \"topic\": \"Teams Integration\"}},\n",
    "        {\"id\": \"18\", \"content\": \"Azure Policy는 조직이 Azure 환경 전반에서 규정을 준수하고 리소스를 관리할 수 있도록 합니다.\", \"metadata\": {\"category\": \"Governance\", \"topic\": \"Azure Policy\"}},\n",
    "        {\"id\": \"19\", \"content\": \"Azure Backup은 데이터를 클라우드에서 간단하고 신뢰할 수 있는 방식으로 백업하고 복구할 수 있도록 지원합니다.\", \"metadata\": {\"category\": \"Backup\", \"topic\": \"Backup Solutions\"}},\n",
    "        {\"id\": \"20\", \"content\": \"Azure Databricks는 빅데이터 처리 도구와 통합되어 고급 분석 및 기계 학습 기능을 제공합니다.\", \"metadata\": {\"category\": \"Analytics\", \"topic\": \"Databricks\"}}\n",
    "    ]\n",
    "\n",
    "\n",
    "    for doc in documents:\n",
    "        process_and_index_document(doc)\n",
    "\n",
    "    user_query = \"Advanced RAG의 장점은 무엇인가요?\"\n",
    "    prompt = f\"다음의 Input과 관련된 대체 질문 3개를 작성해주세요.:\\n\\nInput: {user_query}\"\n",
    "\n",
    "    response = openai_client.chat.completions.create(\n",
    "        model=\"gpt-35-turbo\",\n",
    "        messages=[{\"role\": \"user\", \"content\": prompt}],\n",
    "        temperature=0.7\n",
    "    )\n",
    "\n",
    "    expanded_queries = [q.strip() for q in response.choices[0].message.content.split(\"\\n\") if q.strip()]\n",
    "    queries = [user_query] + expanded_queries[:3]\n",
    "\n",
    "    # nest_asyncio를 사용하여 이벤트 루프를 중첩할 수 있도록 합니다.\n",
    "    nest_asyncio.apply()\n",
    "    parallel_searchresults = asyncio.run(run_parallel_queries(queries))\n",
    "    reranked_results = [rerank_results(results, user_query) for results in parallel_searchresults]\n",
    "    context = generate_context(reranked_results[0])  # 첫 번째 쿼리 결과만 사용\n",
    "    response = generate_response(user_query, context)\n",
    "\n",
    "    print(\"User Query:\", user_query)\n",
    "    print(\"Response:\", response)\n",
    "\n",
    "if __name__ == \"__main__\":\n",
    "    main()\n"
   ]
  }
 ],
 "metadata": {
  "kernelspec": {
   "display_name": "Python 3",
   "language": "python",
   "name": "python3"
  },
  "language_info": {
   "codemirror_mode": {
    "name": "ipython",
    "version": 3
   },
   "file_extension": ".py",
   "mimetype": "text/x-python",
   "name": "python",
   "nbconvert_exporter": "python",
   "pygments_lexer": "ipython3",
   "version": "3.12.4"
  }
 },
 "nbformat": 4,
 "nbformat_minor": 2
}
